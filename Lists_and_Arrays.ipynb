{
 "cells": [
  {
   "cell_type": "markdown",
   "metadata": {},
   "source": [
    "# Lists"
   ]
  },
  {
   "cell_type": "markdown",
   "metadata": {},
   "source": [
    "Lists are the simplest data structures in Python, and you'll use them for absolutely everything. Let's start with a 1D list first."
   ]
  },
  {
   "cell_type": "code",
   "execution_count": 48,
   "metadata": {
    "collapsed": false
   },
   "outputs": [],
   "source": [
    "myNumbers = [1123, 875, 3.146, 8.72, 188, 0.99]"
   ]
  },
  {
   "cell_type": "markdown",
   "metadata": {},
   "source": [
    "This list stores three numbers, and we can get each entry in the list by using its index. Remember that Python starts counting at 0!"
   ]
  },
  {
   "cell_type": "code",
   "execution_count": 52,
   "metadata": {
    "collapsed": false
   },
   "outputs": [
    {
     "name": "stdout",
     "output_type": "stream",
     "text": [
      "3.146\n",
      "188\n"
     ]
    }
   ],
   "source": [
    "print myNumbers[2]\n",
    "print myNumbers[-2]"
   ]
  },
  {
   "cell_type": "markdown",
   "metadata": {},
   "source": [
    "A list can be used to store any kind of data. It can even store other lists!"
   ]
  },
  {
   "cell_type": "code",
   "execution_count": 50,
   "metadata": {
    "collapsed": true
   },
   "outputs": [],
   "source": [
    "dogNames = ['Fido', 'Spot', 'Romulus']\n",
    "fours = [4, 'four', [1, 2, 3, 4], [[[[4]]]]]"
   ]
  },
  {
   "cell_type": "code",
   "execution_count": 53,
   "metadata": {
    "collapsed": false
   },
   "outputs": [
    {
     "name": "stdout",
     "output_type": "stream",
     "text": [
      "3\n",
      "[[4]]\n"
     ]
    }
   ],
   "source": [
    "print fours[2][2]\n",
    "print fours[3][0][0]"
   ]
  },
  {
   "cell_type": "markdown",
   "metadata": {},
   "source": [
    "---------"
   ]
  },
  {
   "cell_type": "markdown",
   "metadata": {},
   "source": [
    "**Problem: In the following list, access the number 6.**"
   ]
  },
  {
   "cell_type": "code",
   "execution_count": 22,
   "metadata": {
    "collapsed": true
   },
   "outputs": [],
   "source": [
    "numbers = [1, [4], ['cat', [5, [[8, 6]]]], 13]"
   ]
  },
  {
   "cell_type": "code",
   "execution_count": 29,
   "metadata": {
    "collapsed": false
   },
   "outputs": [
    {
     "data": {
      "text/plain": [
       "6"
      ]
     },
     "execution_count": 29,
     "metadata": {},
     "output_type": "execute_result"
    }
   ],
   "source": [
    "# answer\n",
    "numbers[2][1][1][0][1]"
   ]
  },
  {
   "cell_type": "markdown",
   "metadata": {},
   "source": [
    "---------"
   ]
  },
  {
   "cell_type": "markdown",
   "metadata": {},
   "source": [
    "There are several alternative ways of making a list. Note that the first number in the range function is inclusive, but the second is exclusive."
   ]
  },
  {
   "cell_type": "code",
   "execution_count": 45,
   "metadata": {
    "collapsed": true
   },
   "outputs": [],
   "source": [
    "ones = [1]*7\n",
    "twos = [2]*10\n",
    "answers = ['yes', 'no']*5\n",
    "maybes = [['yes', 'no']]*5\n",
    "count = range(5, 16)\n",
    "countByTwo = range(5, 16, 2)"
   ]
  },
  {
   "cell_type": "markdown",
   "metadata": {},
   "source": [
    "------"
   ]
  },
  {
   "cell_type": "markdown",
   "metadata": {},
   "source": [
    "**Problem: Create a list of length 100 where every element is a 5.**\n"
   ]
  },
  {
   "cell_type": "code",
   "execution_count": 54,
   "metadata": {
    "collapsed": false
   },
   "outputs": [],
   "source": [
    "# answer\n",
    "l = [5]*100"
   ]
  },
  {
   "cell_type": "markdown",
   "metadata": {},
   "source": [
    "-----"
   ]
  },
  {
   "cell_type": "markdown",
   "metadata": {},
   "source": [
    "One of the most useful ways of creating lists is via something called \"list comprehension\"."
   ]
  },
  {
   "cell_type": "code",
   "execution_count": 51,
   "metadata": {
    "collapsed": false
   },
   "outputs": [
    {
     "name": "stdout",
     "output_type": "stream",
     "text": [
      "[0, 2, 4, 6, 8, 10, 12, 14, 16, 18]\n"
     ]
    }
   ],
   "source": [
    "evens = [i*2 for i in range(10)]\n",
    "print evens"
   ]
  },
  {
   "cell_type": "code",
   "execution_count": 52,
   "metadata": {
    "collapsed": false
   },
   "outputs": [
    {
     "name": "stdout",
     "output_type": "stream",
     "text": [
      "[8, 18, 10, 24, 16]\n"
     ]
    }
   ],
   "source": [
    "x = [1, 6, 2, 9, 5]\n",
    "y = [i*2+6 for i in x]\n",
    "print y"
   ]
  },
  {
   "cell_type": "code",
   "execution_count": 67,
   "metadata": {
    "collapsed": false
   },
   "outputs": [
    {
     "name": "stdout",
     "output_type": "stream",
     "text": [
      "[0, 6, 0, 9, 5]\n"
     ]
    }
   ],
   "source": [
    "z = [i if i>3 else 0 for i in x]\n",
    "print z"
   ]
  },
  {
   "cell_type": "markdown",
   "metadata": {},
   "source": [
    "------------"
   ]
  },
  {
   "cell_type": "markdown",
   "metadata": {},
   "source": [
    "**Problem: Create a list of odd numbers from 1 to 57.**\n"
   ]
  },
  {
   "cell_type": "code",
   "execution_count": 56,
   "metadata": {
    "collapsed": false
   },
   "outputs": [],
   "source": [
    "# answer\n",
    "l = [i*2+1 for i in range(29)]"
   ]
  },
  {
   "cell_type": "markdown",
   "metadata": {},
   "source": [
    "**Problem: Make a list of squares from 1 to 10,000.**"
   ]
  },
  {
   "cell_type": "code",
   "execution_count": 62,
   "metadata": {
    "collapsed": false
   },
   "outputs": [],
   "source": [
    "# answer\n",
    "l = [i*i for i in range(1, 101)]"
   ]
  },
  {
   "cell_type": "markdown",
   "metadata": {},
   "source": [
    "**Problem: Create a list of lists [[1], [1, 2], [1, 2, 3], ...] going all the way to a list of size 15.**\n"
   ]
  },
  {
   "cell_type": "code",
   "execution_count": 1,
   "metadata": {
    "collapsed": false
   },
   "outputs": [],
   "source": [
    "# answer\n",
    "l = [range(1, i+2) for i in range(15)]"
   ]
  },
  {
   "cell_type": "markdown",
   "metadata": {},
   "source": [
    "**Problem: Create a list of numbers and their squares [[1, 1], [2, 4], [3,9]... [100, 10000]] going all the way to 100.**\n"
   ]
  },
  {
   "cell_type": "code",
   "execution_count": 3,
   "metadata": {
    "collapsed": true
   },
   "outputs": [],
   "source": [
    "# answer\n",
    "l = [[i, i*i] for i in range(1, 101)]"
   ]
  },
  {
   "cell_type": "markdown",
   "metadata": {},
   "source": [
    "**Problem: Alter the list below, so that every even value is left the same and every odd value is multiplied by -1. (Might have to consult Stack Exchange).**\n"
   ]
  },
  {
   "cell_type": "code",
   "execution_count": 64,
   "metadata": {
    "collapsed": true
   },
   "outputs": [],
   "source": [
    "a = [12, 56, 23, 35, 123, 32, 65, 131, 54]"
   ]
  },
  {
   "cell_type": "code",
   "execution_count": 65,
   "metadata": {
    "collapsed": true
   },
   "outputs": [],
   "source": [
    "# answer\n",
    "b = [i*-1 if i%2==1 else i for i in a]"
   ]
  },
  {
   "cell_type": "markdown",
   "metadata": {},
   "source": [
    "-------------"
   ]
  },
  {
   "cell_type": "markdown",
   "metadata": {},
   "source": [
    "You can choose subsets of a list. This is called slicing. Note that the first index in the slice is exclusive, but the second is inclusive."
   ]
  },
  {
   "cell_type": "code",
   "execution_count": 258,
   "metadata": {
    "collapsed": false
   },
   "outputs": [],
   "source": [
    "a = range(50)\n",
    "b = a[:20]\n",
    "c = a[0:20]\n",
    "d = a[10:20]\n",
    "e = a[0:20:2]\n",
    "f = a[::3]\n",
    "g = a[2::3]"
   ]
  },
  {
   "cell_type": "markdown",
   "metadata": {},
   "source": [
    "There are simple commands for adding and removing elements from a list."
   ]
  },
  {
   "cell_type": "code",
   "execution_count": 34,
   "metadata": {
    "collapsed": false
   },
   "outputs": [],
   "source": [
    "b.pop(3)\n",
    "b.append(36)\n",
    "b.insert(2, 80)"
   ]
  },
  {
   "cell_type": "markdown",
   "metadata": {},
   "source": [
    "You can also concatenate two lists with a simple addition operator."
   ]
  },
  {
   "cell_type": "code",
   "execution_count": 37,
   "metadata": {
    "collapsed": false
   },
   "outputs": [],
   "source": [
    "ab = a+b"
   ]
  },
  {
   "cell_type": "markdown",
   "metadata": {
    "collapsed": true
   },
   "source": [
    "------"
   ]
  },
  {
   "cell_type": "markdown",
   "metadata": {},
   "source": [
    "**Problem: Reorder an out-of-order list like a = [1, 2, 3, 6, 7, 8, 4, 5, 9, 10] using slicing and concating.**\n"
   ]
  },
  {
   "cell_type": "code",
   "execution_count": 55,
   "metadata": {
    "collapsed": true
   },
   "outputs": [],
   "source": [
    "a = [1, 2, 3, 6, 7, 8, 4, 5, 9, 10]"
   ]
  },
  {
   "cell_type": "code",
   "execution_count": 56,
   "metadata": {
    "collapsed": false
   },
   "outputs": [],
   "source": [
    "# answer\n",
    "a = a[:3] + a[6:8] + a[3:6] + a[8:10]"
   ]
  },
  {
   "cell_type": "markdown",
   "metadata": {},
   "source": [
    "**Problem: Make a Fibonacci sequence of length 50.**"
   ]
  },
  {
   "cell_type": "code",
   "execution_count": 60,
   "metadata": {
    "collapsed": true
   },
   "outputs": [],
   "source": [
    "# answer\n",
    "a = [1, 1]\n",
    "for _ in range(48):\n",
    "    a.append(a[-1]+a[-2])"
   ]
  },
  {
   "cell_type": "markdown",
   "metadata": {},
   "source": [
    "**Problem: Make a list of squares from 1-10k, except without any numbers from 5k-7k.**\n"
   ]
  },
  {
   "cell_type": "code",
   "execution_count": 62,
   "metadata": {
    "collapsed": false
   },
   "outputs": [],
   "source": [
    "# answer\n",
    "a = []\n",
    "for i in range(1, 101):\n",
    "    square = i*i\n",
    "    if square<5000 or square>7000:\n",
    "        a.append(square)"
   ]
  },
  {
   "cell_type": "markdown",
   "metadata": {},
   "source": [
    "------"
   ]
  },
  {
   "cell_type": "markdown",
   "metadata": {
    "collapsed": true
   },
   "source": [
    "You can combine the elements of two lists together into a single list via the zip() operation. The lists have to be the same size."
   ]
  },
  {
   "cell_type": "code",
   "execution_count": 72,
   "metadata": {
    "collapsed": true
   },
   "outputs": [],
   "source": [
    "a = range(30)\n",
    "b = [i*i for i in a]\n",
    "c = zip(a,b)\n",
    "d, e = c[0]"
   ]
  },
  {
   "cell_type": "markdown",
   "metadata": {},
   "source": [
    "Unzipping a list is the same operation, but with an additional asterisk."
   ]
  },
  {
   "cell_type": "code",
   "execution_count": 73,
   "metadata": {
    "collapsed": false
   },
   "outputs": [],
   "source": [
    "d, e = zip(*c)"
   ]
  },
  {
   "cell_type": "markdown",
   "metadata": {},
   "source": [
    "-------"
   ]
  },
  {
   "cell_type": "markdown",
   "metadata": {},
   "source": [
    "**Problem: Make an array c = a^2 + b.**\n"
   ]
  },
  {
   "cell_type": "code",
   "execution_count": 71,
   "metadata": {
    "collapsed": true
   },
   "outputs": [],
   "source": [
    "a = range(30)\n",
    "b = [i*i for i in a]"
   ]
  },
  {
   "cell_type": "code",
   "execution_count": 74,
   "metadata": {
    "collapsed": true
   },
   "outputs": [],
   "source": [
    "# answer\n",
    "c = [i*i+j for i,j in zip(a,b)]"
   ]
  },
  {
   "cell_type": "markdown",
   "metadata": {},
   "source": [
    "--------"
   ]
  },
  {
   "cell_type": "markdown",
   "metadata": {},
   "source": [
    "Important note! Variable names in Python are pointers. If you point two variables at a single list, changing one will change both!"
   ]
  },
  {
   "cell_type": "code",
   "execution_count": 80,
   "metadata": {
    "collapsed": false
   },
   "outputs": [
    {
     "name": "stdout",
     "output_type": "stream",
     "text": [
      "[0, 1, 2, 4]\n"
     ]
    }
   ],
   "source": [
    "a = range(5)\n",
    "b = a\n",
    "b.pop(3)\n",
    "print a"
   ]
  },
  {
   "cell_type": "markdown",
   "metadata": {},
   "source": [
    "If you want to copy a list, you need to use the copy.deepcopy() function."
   ]
  },
  {
   "cell_type": "code",
   "execution_count": 83,
   "metadata": {
    "collapsed": false
   },
   "outputs": [
    {
     "name": "stdout",
     "output_type": "stream",
     "text": [
      "[0, 1, 2, 3, 4]\n"
     ]
    }
   ],
   "source": [
    "import copy\n",
    "a = range(5)\n",
    "b = copy.deepcopy(a)\n",
    "b.pop(3)\n",
    "print a"
   ]
  },
  {
   "cell_type": "markdown",
   "metadata": {},
   "source": [
    "-----------"
   ]
  },
  {
   "cell_type": "markdown",
   "metadata": {},
   "source": [
    "# Numpy Arrays"
   ]
  },
  {
   "cell_type": "markdown",
   "metadata": {},
   "source": [
    "Arrays work like lists, but add a lot of extra features. They're not in basic Python, so you'll have to import the numpy (numeric Python) package to use them. If you don't already have it installed on your computer, you can get numpy by typing \"pip install numpy\" in the command line.\n",
    "\n",
    "Because we use numpy so much for so many different things, it's common to just call numpy \"np\" when you import it. You can turn a list into a numpy array with the np.array() function."
   ]
  },
  {
   "cell_type": "code",
   "execution_count": 88,
   "metadata": {
    "collapsed": false
   },
   "outputs": [
    {
     "name": "stdout",
     "output_type": "stream",
     "text": [
      "[2 3 5]\n",
      "[0 1 2 3 4 5]\n"
     ]
    }
   ],
   "source": [
    "import numpy as np\n",
    "a = np.array([2, 3, 5])\n",
    "b = range(6)\n",
    "b = np.array(b)\n",
    "print a\n",
    "print b"
   ]
  },
  {
   "cell_type": "markdown",
   "metadata": {},
   "source": [
    "Here are some examples of numpy features."
   ]
  },
  {
   "cell_type": "code",
   "execution_count": 112,
   "metadata": {
    "collapsed": false
   },
   "outputs": [
    {
     "name": "stdout",
     "output_type": "stream",
     "text": [
      "[[ 0.58976459  0.63534604  0.85449989  0.25100042  0.46435569]\n",
      " [ 0.33161429  0.93313368  0.5136131   0.17775698  0.41539377]]\n",
      "[ 1.  1.  1.  1.  1.  1.]\n",
      "(3, 2, 4)\n"
     ]
    }
   ],
   "source": [
    "a = np.random.rand(2, 5)\n",
    "b = np.ones(6)\n",
    "c = np.zeros((3, 2, 4))\n",
    "print a\n",
    "print b\n",
    "print c.shape"
   ]
  },
  {
   "cell_type": "markdown",
   "metadata": {},
   "source": [
    "However, there are some things lists can do which numpy arrays cannot do. For example, numpy has a hard time dealing with non-rectangular arrays."
   ]
  },
  {
   "cell_type": "code",
   "execution_count": 102,
   "metadata": {
    "collapsed": false
   },
   "outputs": [
    {
     "ename": "ValueError",
     "evalue": "setting an array element with a sequence",
     "output_type": "error",
     "traceback": [
      "\u001b[0;31m---------------------------------------------------------------------------\u001b[0m",
      "\u001b[0;31mValueError\u001b[0m                                Traceback (most recent call last)",
      "\u001b[0;32m<ipython-input-102-4b54e79a684c>\u001b[0m in \u001b[0;36m<module>\u001b[0;34m()\u001b[0m\n\u001b[1;32m      1\u001b[0m \u001b[0ma\u001b[0m \u001b[0;34m=\u001b[0m \u001b[0;34m[\u001b[0m\u001b[0;36m1\u001b[0m\u001b[0;34m,\u001b[0m \u001b[0;34m[\u001b[0m\u001b[0;36m4\u001b[0m\u001b[0;34m]\u001b[0m\u001b[0;34m,\u001b[0m \u001b[0;34m[\u001b[0m\u001b[0;34m'cat'\u001b[0m\u001b[0;34m,\u001b[0m \u001b[0;34m[\u001b[0m\u001b[0;36m5\u001b[0m\u001b[0;34m,\u001b[0m \u001b[0;34m[\u001b[0m\u001b[0;34m[\u001b[0m\u001b[0;36m8\u001b[0m\u001b[0;34m,\u001b[0m \u001b[0;36m6\u001b[0m\u001b[0;34m]\u001b[0m\u001b[0;34m]\u001b[0m\u001b[0;34m]\u001b[0m\u001b[0;34m]\u001b[0m\u001b[0;34m,\u001b[0m \u001b[0;36m13\u001b[0m\u001b[0;34m]\u001b[0m\u001b[0;34m\u001b[0m\u001b[0m\n\u001b[0;32m----> 2\u001b[0;31m \u001b[0ma\u001b[0m \u001b[0;34m=\u001b[0m \u001b[0mnp\u001b[0m\u001b[0;34m.\u001b[0m\u001b[0marray\u001b[0m\u001b[0;34m(\u001b[0m\u001b[0ma\u001b[0m\u001b[0;34m)\u001b[0m\u001b[0;34m\u001b[0m\u001b[0m\n\u001b[0m",
      "\u001b[0;31mValueError\u001b[0m: setting an array element with a sequence"
     ]
    }
   ],
   "source": [
    "a = [1, [4], ['cat', [5, [[8, 6]]]], 13]\n",
    "a = np.array(a)"
   ]
  },
  {
   "cell_type": "markdown",
   "metadata": {},
   "source": [
    "--------"
   ]
  },
  {
   "cell_type": "markdown",
   "metadata": {},
   "source": [
    "**Problem: Create a 3x5 array of random numbers with a Gaussian mean of 5 and standard deviation of 1.5. You'll have to search online.**\n"
   ]
  },
  {
   "cell_type": "code",
   "execution_count": 119,
   "metadata": {
    "collapsed": false
   },
   "outputs": [],
   "source": [
    "# answer\n",
    "a = np.random.normal(5, 1.5, (3, 5))"
   ]
  },
  {
   "cell_type": "markdown",
   "metadata": {},
   "source": [
    "---------"
   ]
  },
  {
   "cell_type": "markdown",
   "metadata": {},
   "source": [
    "Numpy is great for linear algebra. You can also do vector and matrix addition and multiplication, as well as transposes, inverses, etc. very easily. Note that the command for concating arrays is different than the command for concating lists."
   ]
  },
  {
   "cell_type": "code",
   "execution_count": 157,
   "metadata": {
    "collapsed": false
   },
   "outputs": [
    {
     "name": "stdout",
     "output_type": "stream",
     "text": [
      "Matrix 1\n",
      "[[ 3  2  8  1]\n",
      " [12  4  0  6]]\n",
      "Matrix 2\n",
      "[[1 6 3 9]\n",
      " [2 5 1 6]]\n",
      "Sum\n",
      "[[ 4  8 11 10]\n",
      " [14  9  1 12]]\n",
      "Difference\n",
      "[[ 2 -4  5 -8]\n",
      " [10 -1 -1  0]]\n",
      "Element-wise multiplication\n",
      "[[ 3 12 24  9]\n",
      " [24 20  0 36]]\n",
      "Transpose of matrix 1\n",
      "[[ 3 12]\n",
      " [ 2  4]\n",
      " [ 8  0]\n",
      " [ 1  6]]\n",
      "Dot product\n",
      "[[27 78 21 99]\n",
      " [10 32 10 42]\n",
      " [ 8 48 24 72]\n",
      " [13 36  9 45]]\n"
     ]
    }
   ],
   "source": [
    "a = np.array([[3, 2, 8, 1], [12, 4, 0, 6]])\n",
    "b = np.array([[1, 6, 3, 9], [2, 5, 1, 6]])\n",
    "print \"Matrix 1\"\n",
    "print a\n",
    "print \"Matrix 2\"\n",
    "print b\n",
    "print \"Sum\"\n",
    "print a+b\n",
    "print \"Difference\"\n",
    "print a-b\n",
    "print \"Element-wise multiplication\"\n",
    "print a*b\n",
    "print \"Transpose of matrix 1\"\n",
    "print a.transpose()\n",
    "print \"Dot product\"\n",
    "print a.transpose().dot(b)"
   ]
  },
  {
   "cell_type": "markdown",
   "metadata": {},
   "source": [
    "More matrix operations. You should search online for the correct numpy function whenever you need a matrix operation."
   ]
  },
  {
   "cell_type": "code",
   "execution_count": 156,
   "metadata": {
    "collapsed": false
   },
   "outputs": [
    {
     "name": "stdout",
     "output_type": "stream",
     "text": [
      "Matrix\n",
      "[[  4.96718471e-01   9.06596419e-04   4.80087314e-01   4.77729629e-01]\n",
      " [  2.51531668e-01   3.95407503e-01   5.97658420e-01   7.19762273e-01]\n",
      " [  4.14799930e-01   8.68355307e-02   9.56492040e-01   2.64416367e-01]\n",
      " [  5.12390630e-01   7.97231812e-01   2.22395915e-01   7.11669950e-01]]\n",
      "Determinant of matrix\n",
      "-0.1161108846\n",
      "Inverse of matrix\n",
      "[[ 1.72244348 -2.43703848  0.38745967  1.16455021]\n",
      " [-1.94110648 -0.3631753   0.88970623  1.33976581]\n",
      " [-0.90743079  0.53886393  1.25800493 -0.40325497]\n",
      " [ 1.21791968  1.99307199 -1.66876229 -0.80813625]]\n",
      "Trace of matrix\n",
      "2.56028796328\n"
     ]
    }
   ],
   "source": [
    "a = np.random.rand(4, 4)\n",
    "print \"Matrix\"\n",
    "print a\n",
    "print \"Determinant of matrix\"\n",
    "print np.linalg.det(a)\n",
    "print \"Inverse of matrix\"\n",
    "print np.linalg.inv(a)\n",
    "print \"Trace of matrix\"\n",
    "print np.trace(a)"
   ]
  },
  {
   "cell_type": "markdown",
   "metadata": {},
   "source": [
    "----------"
   ]
  },
  {
   "cell_type": "markdown",
   "metadata": {},
   "source": [
    "** Problem: In the code below, let data be 100 observations on a 5x5 grid. Find the mean and standard deviation. The result should be two 5x5 matrices. **"
   ]
  },
  {
   "cell_type": "code",
   "execution_count": 164,
   "metadata": {
    "collapsed": false
   },
   "outputs": [
    {
     "data": {
      "text/plain": [
       "array([[ 0.37454012,  0.95071431,  0.73199394,  0.59865848,  0.15601864],\n",
       "       [ 0.15599452,  0.05808361,  0.86617615,  0.60111501,  0.70807258],\n",
       "       [ 0.02058449,  0.96990985,  0.83244264,  0.21233911,  0.18182497],\n",
       "       [ 0.18340451,  0.30424224,  0.52475643,  0.43194502,  0.29122914],\n",
       "       [ 0.61185289,  0.13949386,  0.29214465,  0.36636184,  0.45606998]])"
      ]
     },
     "execution_count": 164,
     "metadata": {},
     "output_type": "execute_result"
    }
   ],
   "source": [
    "np.random.seed(42)\n",
    "data = np.random.rand(100, 5, 5)\n",
    "data[0]"
   ]
  },
  {
   "cell_type": "code",
   "execution_count": 166,
   "metadata": {
    "collapsed": true
   },
   "outputs": [],
   "source": [
    "# answer\n",
    "mean = data.mean(axis=0)\n",
    "std = data.std(axis=0)"
   ]
  },
  {
   "cell_type": "markdown",
   "metadata": {},
   "source": [
    "**Problem: Find the difference between the sum of the squares of the first one hundred natural numbers (starting from 1) and the square of the sum (https://projecteuler.net/problem=6).**\n"
   ]
  },
  {
   "cell_type": "code",
   "execution_count": 178,
   "metadata": {
    "collapsed": false
   },
   "outputs": [],
   "source": [
    "# answer\n",
    "a = np.arange(1, 101)\n",
    "difference = sum(a*a) - pow(sum(a), 2)"
   ]
  },
  {
   "cell_type": "markdown",
   "metadata": {},
   "source": [
    "**Problem: Given two arrays of numbers, determine which numbers are in both matrices.**\n"
   ]
  },
  {
   "cell_type": "code",
   "execution_count": 187,
   "metadata": {
    "collapsed": false
   },
   "outputs": [
    {
     "name": "stdout",
     "output_type": "stream",
     "text": [
      "[[37 95 73 59 15 15  5 86 60 70]\n",
      " [ 2 96 83 21 18 18 30 52 43 29]\n",
      " [61 13 29 36 45 78 19 51 59  4]\n",
      " [60 17  6 94 96 80 30  9 68 44]\n",
      " [12 49  3 90 25 66 31 52 54 18]\n",
      " [96 77 93 89 59 92  8 19  4 32]\n",
      " [38 27 82 35 28 54 14 80  7 98]\n",
      " [77 19  0 81 70 72 77  7 35 11]\n",
      " [86 62 33  6 31 32 72 63 88 47]\n",
      " [11 71 76 56 77 49 52 42  2 10]]\n",
      "[[ 3 63 31 50 90 24 41 75 22  7]\n",
      " [28 16 92 80 63 87 80 18 89 53]\n",
      " [80 89 31 11 22 42 81 86  0 51]\n",
      " [41 22 11 33 94 32 51 70 36 97]\n",
      " [96 25 49 30 28  3 60 50  5 27]\n",
      " [90 23 14 48 98 24 67 76 23 72]\n",
      " [36 63 63 53  9 83 32 18  4 59]\n",
      " [67  1 51 22 64 17 69 38 93 13]\n",
      " [34 11 92 87 25 65 81 55 52 24]\n",
      " [ 9 89 90 63 33 34 72 89 88 77]]\n"
     ]
    }
   ],
   "source": [
    "np.random.seed(42)\n",
    "a = (np.random.rand(10, 10)*100).astype(int)\n",
    "b = (np.random.rand(10, 10)*100).astype(int)\n",
    "print a\n",
    "print b"
   ]
  },
  {
   "cell_type": "code",
   "execution_count": 189,
   "metadata": {
    "collapsed": false
   },
   "outputs": [],
   "source": [
    "# answer\n",
    "intersection = np.intersect1d(a, b)"
   ]
  },
  {
   "cell_type": "markdown",
   "metadata": {},
   "source": [
    "-------"
   ]
  },
  {
   "cell_type": "markdown",
   "metadata": {},
   "source": [
    "Numpy also contains advanced searching and selection tools which are very useful."
   ]
  },
  {
   "cell_type": "code",
   "execution_count": 301,
   "metadata": {
    "collapsed": false
   },
   "outputs": [
    {
     "name": "stdout",
     "output_type": "stream",
     "text": [
      "[6 3 7 4 6 9 2 6 7 4]\n",
      "[3 9 4 4]\n"
     ]
    }
   ],
   "source": [
    "np.random.seed(42)\n",
    "a = np.random.randint(0, 10, 10)\n",
    "print a\n",
    "print a[np.array([1, 5, 3, 3])]"
   ]
  },
  {
   "cell_type": "code",
   "execution_count": 302,
   "metadata": {
    "collapsed": false
   },
   "outputs": [
    {
     "name": "stdout",
     "output_type": "stream",
     "text": [
      "[ True False  True False  True  True False  True  True False]\n",
      "(array([0, 2, 4, 5, 7, 8]),)\n"
     ]
    }
   ],
   "source": [
    "print a>5\n",
    "print np.where(a>5)"
   ]
  },
  {
   "cell_type": "code",
   "execution_count": 307,
   "metadata": {
    "collapsed": false
   },
   "outputs": [
    {
     "name": "stdout",
     "output_type": "stream",
     "text": [
      "[6 7 6 9 6 7]\n",
      "[6 7 6 9 6 7]\n",
      "[3 4 2 4]\n"
     ]
    }
   ],
   "source": [
    "print a[a>5]\n",
    "print a[np.where(a>5)]\n",
    "print a[~(a>5)]"
   ]
  },
  {
   "cell_type": "code",
   "execution_count": 304,
   "metadata": {
    "collapsed": false
   },
   "outputs": [
    {
     "name": "stdout",
     "output_type": "stream",
     "text": [
      "[[ 0.60111501  0.70807258  0.02058449  0.96990985  0.83244264]\n",
      " [ 0.21233911  0.18182497  0.18340451  0.30424224  0.52475643]\n",
      " [ 0.43194502  0.29122914  0.61185289  0.13949386  0.29214465]\n",
      " [ 0.36636184  0.45606998  0.78517596  0.19967378  0.51423444]\n",
      " [ 0.59241457  0.04645041  0.60754485  0.17052412  0.06505159]]\n",
      "[ 0.18340451  0.13949386]\n"
     ]
    }
   ],
   "source": [
    "b = np.random.rand(5,5)\n",
    "print b\n",
    "print b[[1,2],[2,3]]"
   ]
  },
  {
   "cell_type": "markdown",
   "metadata": {},
   "source": [
    "-----------"
   ]
  },
  {
   "cell_type": "markdown",
   "metadata": {},
   "source": [
    "**Problem: Split the even and odd indices of mixedData into two new arrays.**"
   ]
  },
  {
   "cell_type": "code",
   "execution_count": 254,
   "metadata": {
    "collapsed": true
   },
   "outputs": [],
   "source": [
    "np.random.seed(42)\n",
    "mixedData = np.random.randint(0, 20, 100)"
   ]
  },
  {
   "cell_type": "code",
   "execution_count": 259,
   "metadata": {
    "collapsed": false
   },
   "outputs": [],
   "source": [
    "# answer\n",
    "even = mixedData[::2]\n",
    "odd = mixedData[1::2]"
   ]
  },
  {
   "cell_type": "markdown",
   "metadata": {},
   "source": [
    "** Problem: Now split the even and odd _elements_ of mixedData into two new arrays. **"
   ]
  },
  {
   "cell_type": "code",
   "execution_count": 276,
   "metadata": {
    "collapsed": false
   },
   "outputs": [],
   "source": [
    "# answer\n",
    "evens = mixedData[mixedData%2 == 0]\n",
    "odds = mixedData[mixedData%2 == 1]"
   ]
  },
  {
   "cell_type": "markdown",
   "metadata": {},
   "source": [
    "**Problem: Remove all data points which are 2 standard deviations or more outside the mean.**\n"
   ]
  },
  {
   "cell_type": "code",
   "execution_count": 277,
   "metadata": {
    "collapsed": true
   },
   "outputs": [],
   "source": [
    "np.random.seed(42)\n",
    "data = np.random.normal(5, 1, 1000)"
   ]
  },
  {
   "cell_type": "code",
   "execution_count": 291,
   "metadata": {
    "collapsed": false
   },
   "outputs": [],
   "source": [
    "# answer\n",
    "mean = np.mean(data)\n",
    "std = np.std(data)\n",
    "outliers = np.logical_or(data<mean-2*std, data>mean+2*std)\n",
    "data = data[~outliers]"
   ]
  },
  {
   "cell_type": "markdown",
   "metadata": {},
   "source": [
    "---------"
   ]
  },
  {
   "cell_type": "markdown",
   "metadata": {},
   "source": [
    "# More Problems"
   ]
  },
  {
   "cell_type": "markdown",
   "metadata": {},
   "source": [
    "There's a lot more stuff you can do with lists and arrays. As always in programming, there's lots of different ways to do a single problem. Try to find the most efficient ones!"
   ]
  },
  {
   "cell_type": "markdown",
   "metadata": {},
   "source": [
    "----------"
   ]
  },
  {
   "cell_type": "markdown",
   "metadata": {},
   "source": [
    "**Problem: Turn an array of numbers [0, 1, 2... 99] into an array of pairs [[0, 1], [2, 3]... [98, 99]].**\n"
   ]
  },
  {
   "cell_type": "code",
   "execution_count": 190,
   "metadata": {
    "collapsed": true
   },
   "outputs": [],
   "source": [
    "a = np.arange(100)"
   ]
  },
  {
   "cell_type": "markdown",
   "metadata": {},
   "source": [
    "**Problem: Take an array of size 500 and reverse the order of numbers 100 through 300.**"
   ]
  },
  {
   "cell_type": "code",
   "execution_count": 191,
   "metadata": {
    "collapsed": true
   },
   "outputs": [],
   "source": [
    "a = np.arange(500)"
   ]
  },
  {
   "cell_type": "markdown",
   "metadata": {},
   "source": [
    "**Problem: Replace the negative numbers in badData with zeros.**"
   ]
  },
  {
   "cell_type": "code",
   "execution_count": 205,
   "metadata": {
    "collapsed": false
   },
   "outputs": [],
   "source": [
    "np.random.seed(42)\n",
    "badData = (np.random.rand(10, 10)*20-3).astype(int)"
   ]
  },
  {
   "cell_type": "markdown",
   "metadata": {},
   "source": [
    "** Problem: Now replace the negative numbers in badData with the numbers in the same position in replacementData. **"
   ]
  },
  {
   "cell_type": "code",
   "execution_count": 206,
   "metadata": {
    "collapsed": true
   },
   "outputs": [],
   "source": [
    "np.random.seed(42)\n",
    "badData = (np.random.rand(10, 10)*20-3).astype(int)\n",
    "replacementData = (np.random.rand(10, 10)*20).astype(int)"
   ]
  },
  {
   "cell_type": "markdown",
   "metadata": {},
   "source": [
    "**Problem: Each entry in data is in the form [time, measurement]. How much higher is the average measurement from t=10 to t=20 than it is from t=0 to t=10?**"
   ]
  },
  {
   "cell_type": "code",
   "execution_count": 217,
   "metadata": {
    "collapsed": false
   },
   "outputs": [],
   "source": [
    "np.random.seed(42)\n",
    "times = np.sort(np.random.rand(100)*20)\n",
    "measurements = np.arange(100)/20.0 + np.random.normal(0, 2.0, 100)\n",
    "data = np.array(zip(times, measurements))"
   ]
  },
  {
   "cell_type": "markdown",
   "metadata": {},
   "source": [
    "**Problem: The data below has entries of all different sizes. Make an array stating how long each entry is.**"
   ]
  },
  {
   "cell_type": "code",
   "execution_count": 225,
   "metadata": {
    "collapsed": false
   },
   "outputs": [],
   "source": [
    "np.random.seed(42)\n",
    "data = [np.random.rand(np.random.randint(10)).tolist() for _ in range(50)]"
   ]
  }
 ],
 "metadata": {
  "kernelspec": {
   "display_name": "Python 2",
   "language": "python",
   "name": "python2"
  },
  "language_info": {
   "codemirror_mode": {
    "name": "ipython",
    "version": 2
   },
   "file_extension": ".py",
   "mimetype": "text/x-python",
   "name": "python",
   "nbconvert_exporter": "python",
   "pygments_lexer": "ipython2",
   "version": "2.7.10"
  },
  "widgets": {
   "state": {},
   "version": "1.1.0"
  }
 },
 "nbformat": 4,
 "nbformat_minor": 0
}
